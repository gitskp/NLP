{
 "cells": [
  {
   "cell_type": "markdown",
   "metadata": {},
   "source": [
    "# Topic Modeling on Amazon Fine Food Reviews Analysis\n",
    "\n",
    "\n",
    "Data Source: https://www.kaggle.com/snap/amazon-fine-food-reviews <br>\n",
    "\n",
    "EDA: https://nycdatascience.com/blog/student-works/amazon-fine-foods-visualization/\n",
    "\n",
    "\n",
    "The Amazon Fine Food Reviews dataset consists of reviews of fine foods from Amazon.<br>\n",
    "\n",
    "Number of reviews: 568,454<br>\n",
    "Number of users: 256,059<br>\n",
    "Number of products: 74,258<br>\n",
    "Timespan: Oct 1999 - Oct 2012<br>\n",
    "Number of Attributes/Columns in data: 10 \n",
    "\n",
    "Attribute Information:\n",
    "\n",
    "1. Id\n",
    "2. ProductId - unique identifier for the product\n",
    "3. UserId - unqiue identifier for the user\n",
    "4. ProfileName\n",
    "5. HelpfulnessNumerator - number of users who found the review helpful\n",
    "6. HelpfulnessDenominator - number of users who indicated whether they found the review helpful or not\n",
    "7. Score - rating between 1 and 5\n",
    "8. Time - timestamp for the review\n",
    "9. Summary - brief summary of the review\n",
    "10. Text - text of the review\n",
    "\n",
    "\n",
    "#### Objective:\n",
    "Given a review, determine whether the review is positive (rating of 4 or 5) or negative (rating of 1 or 2).\n",
    "\n",
    "<br>\n",
    "[Q] How to determine if a review is positive or negative?<br>\n",
    "<br> \n",
    "[Ans] We could use Score/Rating. A rating of 4 or 5 can be cosnidered as a positive review. A rating of 1 or 2 can be considered as negative one. A review of rating 3 is considered nuetral and such reviews are ignored from our analysis. This is an approximate and proxy way of determining the polarity (positivity/negativity) of a review.\n",
    "\n",
    "\n"
   ]
  },
  {
   "cell_type": "markdown",
   "metadata": {},
   "source": [
    "# [1]. Reading Data"
   ]
  },
  {
   "cell_type": "markdown",
   "metadata": {},
   "source": [
    "## [1.1] Loading the data\n",
    "\n",
    "The dataset is available in two forms\n",
    "1. .csv file\n",
    "2. SQLite Database\n",
    "\n",
    "In order to load the data, We have used the SQLITE dataset as it is easier to query the data and visualise the data efficiently.\n",
    "<br> \n",
    "\n",
    "Here as we only want to get the global sentiment of the recommendations (positive or negative), we will purposefully ignore all Scores equal to 3. If the score is above 3, then the recommendation wil be set to \"positive\". Otherwise, it will be set to \"negative\"."
   ]
  },
  {
   "cell_type": "code",
   "execution_count": 1,
   "metadata": {
    "ExecuteTime": {
     "end_time": "2019-04-15T05:09:43.929127Z",
     "start_time": "2019-04-15T05:09:16.599863Z"
    }
   },
   "outputs": [],
   "source": [
    "import sqlite3\n",
    "import pandas as pd\n",
    "import numpy as np\n",
    "import nltk\n",
    "import string\n",
    "import matplotlib.pyplot as plt\n",
    "import seaborn as sns\n",
    "%matplotlib inline\n",
    "\n",
    "import warnings\n",
    "warnings.filterwarnings(\"ignore\")\n",
    "warnings.filterwarnings(\"ignore\", category=DeprecationWarning)\n",
    "warnings.filterwarnings('ignore',category=FutureWarning)\n",
    "warnings.filterwarnings('ignore',category=UserWarning)\n",
    "\n",
    "from bs4 import BeautifulSoup\n",
    "import gensim\n",
    "from gensim import corpora\n",
    "import gensim.corpora as corpora\n",
    "from gensim.utils import simple_preprocess\n",
    "from gensim.models import CoherenceModel\n",
    "\n",
    "# visulaization of topic modelling using pyLDAvis library\n",
    "import pyLDAvis\n",
    "import pyLDAvis.gensim\n",
    "pyLDAvis.enable_notebook()\n",
    "\n",
    "\n"
   ]
  },
  {
   "cell_type": "code",
   "execution_count": 14,
   "metadata": {
    "ExecuteTime": {
     "end_time": "2019-04-15T05:31:50.447979Z",
     "start_time": "2019-04-15T05:31:49.850489Z"
    }
   },
   "outputs": [
    {
     "name": "stdout",
     "output_type": "stream",
     "text": [
      "Number of data points in our data (30000, 10)\n"
     ]
    }
   ],
   "source": [
    "# using SQLite Table to read data.\n",
    "con = sqlite3.connect('database.sqlite') \n",
    "filtered_data = pd.read_sql_query(\"\"\" SELECT * FROM Reviews LIMIT 30000\"\"\", con) \n",
    "print(\"Number of data points in our data\", filtered_data.shape)\n",
    "\n",
    "\n"
   ]
  },
  {
   "cell_type": "code",
   "execution_count": 15,
   "metadata": {
    "ExecuteTime": {
     "end_time": "2019-04-15T05:31:52.269087Z",
     "start_time": "2019-04-15T05:31:52.243264Z"
    }
   },
   "outputs": [
    {
     "data": {
      "text/html": [
       "<div>\n",
       "<style scoped>\n",
       "    .dataframe tbody tr th:only-of-type {\n",
       "        vertical-align: middle;\n",
       "    }\n",
       "\n",
       "    .dataframe tbody tr th {\n",
       "        vertical-align: top;\n",
       "    }\n",
       "\n",
       "    .dataframe thead th {\n",
       "        text-align: right;\n",
       "    }\n",
       "</style>\n",
       "<table border=\"1\" class=\"dataframe\">\n",
       "  <thead>\n",
       "    <tr style=\"text-align: right;\">\n",
       "      <th></th>\n",
       "      <th>Id</th>\n",
       "      <th>ProductId</th>\n",
       "      <th>UserId</th>\n",
       "      <th>ProfileName</th>\n",
       "      <th>HelpfulnessNumerator</th>\n",
       "      <th>HelpfulnessDenominator</th>\n",
       "      <th>Score</th>\n",
       "      <th>Time</th>\n",
       "      <th>Summary</th>\n",
       "      <th>Text</th>\n",
       "    </tr>\n",
       "  </thead>\n",
       "  <tbody>\n",
       "    <tr>\n",
       "      <th>0</th>\n",
       "      <td>1</td>\n",
       "      <td>B001E4KFG0</td>\n",
       "      <td>A3SGXH7AUHU8GW</td>\n",
       "      <td>delmartian</td>\n",
       "      <td>1</td>\n",
       "      <td>1</td>\n",
       "      <td>5</td>\n",
       "      <td>1303862400</td>\n",
       "      <td>Good Quality Dog Food</td>\n",
       "      <td>I have bought several of the Vitality canned d...</td>\n",
       "    </tr>\n",
       "    <tr>\n",
       "      <th>1</th>\n",
       "      <td>2</td>\n",
       "      <td>B00813GRG4</td>\n",
       "      <td>A1D87F6ZCVE5NK</td>\n",
       "      <td>dll pa</td>\n",
       "      <td>0</td>\n",
       "      <td>0</td>\n",
       "      <td>1</td>\n",
       "      <td>1346976000</td>\n",
       "      <td>Not as Advertised</td>\n",
       "      <td>Product arrived labeled as Jumbo Salted Peanut...</td>\n",
       "    </tr>\n",
       "    <tr>\n",
       "      <th>2</th>\n",
       "      <td>3</td>\n",
       "      <td>B000LQOCH0</td>\n",
       "      <td>ABXLMWJIXXAIN</td>\n",
       "      <td>Natalia Corres \"Natalia Corres\"</td>\n",
       "      <td>1</td>\n",
       "      <td>1</td>\n",
       "      <td>4</td>\n",
       "      <td>1219017600</td>\n",
       "      <td>\"Delight\" says it all</td>\n",
       "      <td>This is a confection that has been around a fe...</td>\n",
       "    </tr>\n",
       "    <tr>\n",
       "      <th>3</th>\n",
       "      <td>4</td>\n",
       "      <td>B000UA0QIQ</td>\n",
       "      <td>A395BORC6FGVXV</td>\n",
       "      <td>Karl</td>\n",
       "      <td>3</td>\n",
       "      <td>3</td>\n",
       "      <td>2</td>\n",
       "      <td>1307923200</td>\n",
       "      <td>Cough Medicine</td>\n",
       "      <td>If you are looking for the secret ingredient i...</td>\n",
       "    </tr>\n",
       "    <tr>\n",
       "      <th>4</th>\n",
       "      <td>5</td>\n",
       "      <td>B006K2ZZ7K</td>\n",
       "      <td>A1UQRSCLF8GW1T</td>\n",
       "      <td>Michael D. Bigham \"M. Wassir\"</td>\n",
       "      <td>0</td>\n",
       "      <td>0</td>\n",
       "      <td>5</td>\n",
       "      <td>1350777600</td>\n",
       "      <td>Great taffy</td>\n",
       "      <td>Great taffy at a great price.  There was a wid...</td>\n",
       "    </tr>\n",
       "  </tbody>\n",
       "</table>\n",
       "</div>"
      ],
      "text/plain": [
       "   Id   ProductId          UserId                      ProfileName  \\\n",
       "0   1  B001E4KFG0  A3SGXH7AUHU8GW                       delmartian   \n",
       "1   2  B00813GRG4  A1D87F6ZCVE5NK                           dll pa   \n",
       "2   3  B000LQOCH0   ABXLMWJIXXAIN  Natalia Corres \"Natalia Corres\"   \n",
       "3   4  B000UA0QIQ  A395BORC6FGVXV                             Karl   \n",
       "4   5  B006K2ZZ7K  A1UQRSCLF8GW1T    Michael D. Bigham \"M. Wassir\"   \n",
       "\n",
       "   HelpfulnessNumerator  HelpfulnessDenominator  Score        Time  \\\n",
       "0                     1                       1      5  1303862400   \n",
       "1                     0                       0      1  1346976000   \n",
       "2                     1                       1      4  1219017600   \n",
       "3                     3                       3      2  1307923200   \n",
       "4                     0                       0      5  1350777600   \n",
       "\n",
       "                 Summary                                               Text  \n",
       "0  Good Quality Dog Food  I have bought several of the Vitality canned d...  \n",
       "1      Not as Advertised  Product arrived labeled as Jumbo Salted Peanut...  \n",
       "2  \"Delight\" says it all  This is a confection that has been around a fe...  \n",
       "3         Cough Medicine  If you are looking for the secret ingredient i...  \n",
       "4            Great taffy  Great taffy at a great price.  There was a wid...  "
      ]
     },
     "execution_count": 15,
     "metadata": {},
     "output_type": "execute_result"
    }
   ],
   "source": [
    "filtered_data.head()"
   ]
  },
  {
   "cell_type": "markdown",
   "metadata": {},
   "source": [
    "#  [2] Exploratory Data Analysis"
   ]
  },
  {
   "cell_type": "markdown",
   "metadata": {},
   "source": [
    "## [2.1] Data Cleaning: Deduplication\n",
    "\n",
    "It is observed (as shown in the table below) that the reviews data had many duplicate entries. Hence it was necessary to remove duplicates in order to get unbiased results for the analysis of the data.  Following is an example:"
   ]
  },
  {
   "cell_type": "markdown",
   "metadata": {},
   "source": [
    "#  [3] Preprocessing"
   ]
  },
  {
   "cell_type": "markdown",
   "metadata": {},
   "source": [
    "## [3.1].  Preprocessing Review Text\n",
    "\n",
    "Now that we have finished deduplication our data requires some preprocessing before we go on further with analysis and making the prediction model.\n",
    "\n",
    "Hence in the Preprocessing phase we do the following in the order below:-\n",
    "\n",
    "1. Begin by removing the html tags\n",
    "2. Remove any punctuations or limited set of special characters like , or . or # etc.\n",
    "3. Check if the word is made up of english letters and is not alpha-numeric\n",
    "4. Check to see if the length of the word is greater than 2 (as it was researched that there is no adjective in 2-letters)\n",
    "5. Convert the word to lowercase\n",
    "6. Remove Stopwords\n",
    "7. Finally Snowball Stemming the word (it was obsereved to be better than Porter Stemming)<br>\n",
    "\n",
    "After which we collect the words used to describe positive and negative reviews"
   ]
  },
  {
   "cell_type": "code",
   "execution_count": 16,
   "metadata": {
    "ExecuteTime": {
     "end_time": "2019-04-15T05:31:56.856133Z",
     "start_time": "2019-04-15T05:31:56.847442Z"
    }
   },
   "outputs": [],
   "source": [
    "# https://stackoverflow.com/a/47091490/4084039\n",
    "import re\n",
    "\n",
    "def decontracted(phrase):\n",
    "    # specific\n",
    "    phrase = re.sub(r\"won't\", \"will not\", phrase)\n",
    "    phrase = re.sub(r\"can\\'t\", \"can not\", phrase)\n",
    "\n",
    "    # general\n",
    "    phrase = re.sub(r\"n\\'t\", \" not\", phrase)\n",
    "    phrase = re.sub(r\"\\'re\", \" are\", phrase)\n",
    "    phrase = re.sub(r\"\\'s\", \" is\", phrase)\n",
    "    phrase = re.sub(r\"\\'d\", \" would\", phrase)\n",
    "    phrase = re.sub(r\"\\'ll\", \" will\", phrase)\n",
    "    phrase = re.sub(r\"\\'t\", \" not\", phrase)\n",
    "    phrase = re.sub(r\"\\'ve\", \" have\", phrase)\n",
    "    phrase = re.sub(r\"\\'m\", \" am\", phrase)\n",
    "    return phrase"
   ]
  },
  {
   "cell_type": "code",
   "execution_count": 17,
   "metadata": {
    "ExecuteTime": {
     "end_time": "2019-04-15T05:31:58.223034Z",
     "start_time": "2019-04-15T05:31:58.209062Z"
    }
   },
   "outputs": [],
   "source": [
    "# https://gist.github.com/sebleier/554280\n",
    "# we are removing the words from the stop words list: 'no', 'nor', 'not'\n",
    "# <br /><br /> ==> after the above steps, we are getting \"br br\"\n",
    "# we are including them into stop words list\n",
    "# instead of <br /> if we have <br/> these tags would have revmoved in the 1st step\n",
    "\n",
    "stopwords= set(['br', 'the', 'i', 'me', 'my', 'myself', 'we', 'our', 'ours', 'ourselves', 'you', \"you're\", \"you've\",\\\n",
    "            \"you'll\", \"you'd\", 'your', 'yours', 'yourself', 'yourselves', 'he', 'him', 'his', 'himself', \\\n",
    "            'she', \"she's\", 'her', 'hers', 'herself', 'it', \"it's\", 'its', 'itself', 'they', 'them', 'their',\\\n",
    "            'theirs', 'themselves', 'what', 'which', 'who', 'whom', 'this', 'that', \"that'll\", 'these', 'those', \\\n",
    "            'am', 'is', 'are', 'was', 'were', 'be', 'been', 'being', 'have', 'has', 'had', 'having', 'do', 'does', \\\n",
    "            'did', 'doing', 'a', 'an', 'the', 'and', 'but', 'if', 'or', 'because', 'as', 'until', 'while', 'of', \\\n",
    "            'at', 'by', 'for', 'with', 'about', 'against', 'between', 'into', 'through', 'during', 'before', 'after',\\\n",
    "            'above', 'below', 'to', 'from', 'up', 'down', 'in', 'out', 'on', 'off', 'over', 'under', 'again', 'further',\\\n",
    "            'then', 'once', 'here', 'there', 'when', 'where', 'why', 'how', 'all', 'any', 'both', 'each', 'few', 'more',\\\n",
    "            'most', 'other', 'some', 'such', 'only', 'own', 'same', 'so', 'than', 'too', 'very', \\\n",
    "            's', 't', 'can', 'will', 'just', 'don', \"don't\", 'should', \"should've\", 'now', 'd', 'll', 'm', 'o', 're', \\\n",
    "            've', 'y', 'ain', 'aren', \"aren't\", 'couldn', \"couldn't\", 'didn', \"didn't\", 'doesn', \"doesn't\", 'hadn',\\\n",
    "            \"hadn't\", 'hasn', \"hasn't\", 'haven', \"haven't\", 'isn', \"isn't\", 'ma', 'mightn', \"mightn't\", 'mustn',\\\n",
    "            \"mustn't\", 'needn', \"needn't\", 'shan', \"shan't\", 'shouldn', \"shouldn't\", 'wasn', \"wasn't\", 'weren', \"weren't\", \\\n",
    "            'won', \"won't\", 'wouldn', \"wouldn't\"])"
   ]
  },
  {
   "cell_type": "code",
   "execution_count": 18,
   "metadata": {
    "ExecuteTime": {
     "end_time": "2019-04-15T05:32:27.933412Z",
     "start_time": "2019-04-15T05:32:05.418847Z"
    }
   },
   "outputs": [
    {
     "name": "stderr",
     "output_type": "stream",
     "text": [
      "<input>:9: DeprecationWarning: invalid escape sequence \\S\n",
      "<input>:9: DeprecationWarning: invalid escape sequence \\S\n",
      "<input>:9: DeprecationWarning: invalid escape sequence \\S\n",
      "<ipython-input-18-22bb2614b38f>:9: DeprecationWarning: invalid escape sequence \\S\n",
      "  sentance = re.sub(\"\\S*\\d\\S*\", \"\", sentance).strip()\n"
     ]
    },
    {
     "data": {
      "application/vnd.jupyter.widget-view+json": {
       "model_id": "250f2daa8664454081df76da5fc2ea81",
       "version_major": 2,
       "version_minor": 0
      },
      "text/plain": [
       "HBox(children=(IntProgress(value=0, max=30000), HTML(value='')))"
      ]
     },
     "metadata": {},
     "output_type": "display_data"
    },
    {
     "name": "stdout",
     "output_type": "stream",
     "text": [
      "\n"
     ]
    }
   ],
   "source": [
    "# Combining all the above stundents \n",
    "from tqdm import tqdm_notebook\n",
    "preprocessed_reviews = []\n",
    "# tqdm is for printing the status bar\n",
    "for sentance in tqdm_notebook(filtered_data['Text'].values):\n",
    "    sentance = re.sub(r\"http\\S+\", \"\", sentance)\n",
    "    sentance = BeautifulSoup(sentance, 'lxml').get_text()\n",
    "    sentance = decontracted(sentance)\n",
    "    sentance = re.sub(\"\\S*\\d\\S*\", \"\", sentance).strip()\n",
    "    sentance = re.sub('[^A-Za-z]+', ' ', sentance)\n",
    "    # https://gist.github.com/sebleier/554280\n",
    "    sentance = ' '.join(e.lower() for e in sentance.split() if e.lower() not in stopwords)\n",
    "    preprocessed_reviews.append(sentance.strip())"
   ]
  },
  {
   "cell_type": "code",
   "execution_count": 19,
   "metadata": {
    "ExecuteTime": {
     "end_time": "2019-04-15T05:32:41.269553Z",
     "start_time": "2019-04-15T05:32:30.036300Z"
    }
   },
   "outputs": [],
   "source": [
    "import nltk\n",
    "from nltk.corpus import stopwords\n",
    "from nltk.stem.wordnet import WordNetLemmatizer\n",
    "import string\n",
    "STOPWORDS = set(stopwords.words('english'))\n",
    "exclude = set(string.punctuation)\n",
    "lemma = WordNetLemmatizer()\n",
    "\n",
    "def clean_text(text):\n",
    "    stop_not = \" \".join([i for i in text.lower().split() if i not in STOPWORDS])\n",
    "    punctuation_free = \"\".join([i for i in stop_not if i not in exclude])\n",
    "    normalized = \" \".join(lemma.lemmatize(word) for word in punctuation_free.split())\n",
    "    return normalized\n",
    "\n",
    "document_cleaned = [clean_text(text).split() for text in preprocessed_reviews] "
   ]
  },
  {
   "cell_type": "code",
   "execution_count": 20,
   "metadata": {
    "ExecuteTime": {
     "end_time": "2019-04-15T05:32:46.775626Z",
     "start_time": "2019-04-15T05:32:46.767867Z"
    }
   },
   "outputs": [],
   "source": [
    "filtered_data['CleanedText']=preprocessed_reviews"
   ]
  },
  {
   "cell_type": "code",
   "execution_count": 21,
   "metadata": {
    "ExecuteTime": {
     "end_time": "2019-04-15T05:32:47.636791Z",
     "start_time": "2019-04-15T05:32:47.619807Z"
    }
   },
   "outputs": [
    {
     "data": {
      "text/html": [
       "<div>\n",
       "<style scoped>\n",
       "    .dataframe tbody tr th:only-of-type {\n",
       "        vertical-align: middle;\n",
       "    }\n",
       "\n",
       "    .dataframe tbody tr th {\n",
       "        vertical-align: top;\n",
       "    }\n",
       "\n",
       "    .dataframe thead th {\n",
       "        text-align: right;\n",
       "    }\n",
       "</style>\n",
       "<table border=\"1\" class=\"dataframe\">\n",
       "  <thead>\n",
       "    <tr style=\"text-align: right;\">\n",
       "      <th></th>\n",
       "      <th>Id</th>\n",
       "      <th>ProductId</th>\n",
       "      <th>UserId</th>\n",
       "      <th>ProfileName</th>\n",
       "      <th>HelpfulnessNumerator</th>\n",
       "      <th>HelpfulnessDenominator</th>\n",
       "      <th>Score</th>\n",
       "      <th>Time</th>\n",
       "      <th>Summary</th>\n",
       "      <th>Text</th>\n",
       "      <th>CleanedText</th>\n",
       "    </tr>\n",
       "  </thead>\n",
       "  <tbody>\n",
       "    <tr>\n",
       "      <th>0</th>\n",
       "      <td>1</td>\n",
       "      <td>B001E4KFG0</td>\n",
       "      <td>A3SGXH7AUHU8GW</td>\n",
       "      <td>delmartian</td>\n",
       "      <td>1</td>\n",
       "      <td>1</td>\n",
       "      <td>5</td>\n",
       "      <td>1303862400</td>\n",
       "      <td>Good Quality Dog Food</td>\n",
       "      <td>I have bought several of the Vitality canned d...</td>\n",
       "      <td>bought several vitality canned dog food produc...</td>\n",
       "    </tr>\n",
       "    <tr>\n",
       "      <th>1</th>\n",
       "      <td>2</td>\n",
       "      <td>B00813GRG4</td>\n",
       "      <td>A1D87F6ZCVE5NK</td>\n",
       "      <td>dll pa</td>\n",
       "      <td>0</td>\n",
       "      <td>0</td>\n",
       "      <td>1</td>\n",
       "      <td>1346976000</td>\n",
       "      <td>Not as Advertised</td>\n",
       "      <td>Product arrived labeled as Jumbo Salted Peanut...</td>\n",
       "      <td>product arrived labeled jumbo salted peanuts p...</td>\n",
       "    </tr>\n",
       "    <tr>\n",
       "      <th>2</th>\n",
       "      <td>3</td>\n",
       "      <td>B000LQOCH0</td>\n",
       "      <td>ABXLMWJIXXAIN</td>\n",
       "      <td>Natalia Corres \"Natalia Corres\"</td>\n",
       "      <td>1</td>\n",
       "      <td>1</td>\n",
       "      <td>4</td>\n",
       "      <td>1219017600</td>\n",
       "      <td>\"Delight\" says it all</td>\n",
       "      <td>This is a confection that has been around a fe...</td>\n",
       "      <td>confection around centuries light pillowy citr...</td>\n",
       "    </tr>\n",
       "    <tr>\n",
       "      <th>3</th>\n",
       "      <td>4</td>\n",
       "      <td>B000UA0QIQ</td>\n",
       "      <td>A395BORC6FGVXV</td>\n",
       "      <td>Karl</td>\n",
       "      <td>3</td>\n",
       "      <td>3</td>\n",
       "      <td>2</td>\n",
       "      <td>1307923200</td>\n",
       "      <td>Cough Medicine</td>\n",
       "      <td>If you are looking for the secret ingredient i...</td>\n",
       "      <td>looking secret ingredient robitussin believe f...</td>\n",
       "    </tr>\n",
       "    <tr>\n",
       "      <th>4</th>\n",
       "      <td>5</td>\n",
       "      <td>B006K2ZZ7K</td>\n",
       "      <td>A1UQRSCLF8GW1T</td>\n",
       "      <td>Michael D. Bigham \"M. Wassir\"</td>\n",
       "      <td>0</td>\n",
       "      <td>0</td>\n",
       "      <td>5</td>\n",
       "      <td>1350777600</td>\n",
       "      <td>Great taffy</td>\n",
       "      <td>Great taffy at a great price.  There was a wid...</td>\n",
       "      <td>great taffy great price wide assortment yummy ...</td>\n",
       "    </tr>\n",
       "  </tbody>\n",
       "</table>\n",
       "</div>"
      ],
      "text/plain": [
       "   Id   ProductId          UserId                      ProfileName  \\\n",
       "0   1  B001E4KFG0  A3SGXH7AUHU8GW                       delmartian   \n",
       "1   2  B00813GRG4  A1D87F6ZCVE5NK                           dll pa   \n",
       "2   3  B000LQOCH0   ABXLMWJIXXAIN  Natalia Corres \"Natalia Corres\"   \n",
       "3   4  B000UA0QIQ  A395BORC6FGVXV                             Karl   \n",
       "4   5  B006K2ZZ7K  A1UQRSCLF8GW1T    Michael D. Bigham \"M. Wassir\"   \n",
       "\n",
       "   HelpfulnessNumerator  HelpfulnessDenominator  Score        Time  \\\n",
       "0                     1                       1      5  1303862400   \n",
       "1                     0                       0      1  1346976000   \n",
       "2                     1                       1      4  1219017600   \n",
       "3                     3                       3      2  1307923200   \n",
       "4                     0                       0      5  1350777600   \n",
       "\n",
       "                 Summary                                               Text  \\\n",
       "0  Good Quality Dog Food  I have bought several of the Vitality canned d...   \n",
       "1      Not as Advertised  Product arrived labeled as Jumbo Salted Peanut...   \n",
       "2  \"Delight\" says it all  This is a confection that has been around a fe...   \n",
       "3         Cough Medicine  If you are looking for the secret ingredient i...   \n",
       "4            Great taffy  Great taffy at a great price.  There was a wid...   \n",
       "\n",
       "                                         CleanedText  \n",
       "0  bought several vitality canned dog food produc...  \n",
       "1  product arrived labeled jumbo salted peanuts p...  \n",
       "2  confection around centuries light pillowy citr...  \n",
       "3  looking secret ingredient robitussin believe f...  \n",
       "4  great taffy great price wide assortment yummy ...  "
      ]
     },
     "execution_count": 21,
     "metadata": {},
     "output_type": "execute_result"
    }
   ],
   "source": [
    "filtered_data.head()"
   ]
  },
  {
   "cell_type": "code",
   "execution_count": 22,
   "metadata": {
    "ExecuteTime": {
     "end_time": "2019-04-15T05:33:04.907617Z",
     "start_time": "2019-04-15T05:33:04.901805Z"
    }
   },
   "outputs": [
    {
     "data": {
      "text/plain": [
       "[['bought',\n",
       "  'several',\n",
       "  'vitality',\n",
       "  'canned',\n",
       "  'dog',\n",
       "  'food',\n",
       "  'product',\n",
       "  'found',\n",
       "  'good',\n",
       "  'quality',\n",
       "  'product',\n",
       "  'look',\n",
       "  'like',\n",
       "  'stew',\n",
       "  'processed',\n",
       "  'meat',\n",
       "  'smell',\n",
       "  'better',\n",
       "  'labrador',\n",
       "  'finicky',\n",
       "  'appreciates',\n",
       "  'product',\n",
       "  'better'],\n",
       " ['product',\n",
       "  'arrived',\n",
       "  'labeled',\n",
       "  'jumbo',\n",
       "  'salted',\n",
       "  'peanut',\n",
       "  'peanut',\n",
       "  'actually',\n",
       "  'small',\n",
       "  'sized',\n",
       "  'unsalted',\n",
       "  'sure',\n",
       "  'error',\n",
       "  'vendor',\n",
       "  'intended',\n",
       "  'represent',\n",
       "  'product',\n",
       "  'jumbo']]"
      ]
     },
     "execution_count": 22,
     "metadata": {},
     "output_type": "execute_result"
    }
   ],
   "source": [
    "document_cleaned[:2]"
   ]
  },
  {
   "cell_type": "code",
   "execution_count": 23,
   "metadata": {
    "ExecuteTime": {
     "end_time": "2019-04-15T05:33:23.335784Z",
     "start_time": "2019-04-15T05:33:08.644155Z"
    }
   },
   "outputs": [],
   "source": [
    "bigram = gensim.models.Phrases(document_cleaned, min_count=5, threshold=100) \n",
    "#trigram = gensim.models.Phrases(bigram[document_cleaned], threshold=100)  \n",
    "\n",
    "bigram_mod = gensim.models.phrases.Phraser(bigram)\n",
    "# trigram_mod = gensim.models.phrases.Phraser(trigram)\n",
    "\n",
    "# # See trigram example\n",
    "# print(trigram_mod[bigram_mod[document_cleaned[0]]])"
   ]
  },
  {
   "cell_type": "code",
   "execution_count": 24,
   "metadata": {
    "ExecuteTime": {
     "end_time": "2019-04-15T05:33:28.795665Z",
     "start_time": "2019-04-15T05:33:23.338758Z"
    }
   },
   "outputs": [],
   "source": [
    "def make_bigrams(texts):\n",
    "    return [bigram_mod[doc] for doc in texts]\n",
    "\n",
    "data_words_bigrams = make_bigrams(document_cleaned)"
   ]
  },
  {
   "cell_type": "code",
   "execution_count": null,
   "metadata": {
    "ExecuteTime": {
     "end_time": "2019-04-14T11:34:46.234757Z",
     "start_time": "2019-04-14T11:34:42.651213Z"
    }
   },
   "outputs": [],
   "source": []
  },
  {
   "cell_type": "code",
   "execution_count": 25,
   "metadata": {
    "ExecuteTime": {
     "end_time": "2019-04-15T05:33:28.806530Z",
     "start_time": "2019-04-15T05:33:28.798620Z"
    }
   },
   "outputs": [
    {
     "data": {
      "text/plain": [
       "[['bought',\n",
       "  'several',\n",
       "  'vitality',\n",
       "  'canned',\n",
       "  'dog',\n",
       "  'food',\n",
       "  'product',\n",
       "  'found',\n",
       "  'good',\n",
       "  'quality',\n",
       "  'product',\n",
       "  'look',\n",
       "  'like',\n",
       "  'stew',\n",
       "  'processed',\n",
       "  'meat',\n",
       "  'smell',\n",
       "  'better',\n",
       "  'labrador',\n",
       "  'finicky',\n",
       "  'appreciates',\n",
       "  'product',\n",
       "  'better'],\n",
       " ['product',\n",
       "  'arrived',\n",
       "  'labeled',\n",
       "  'jumbo',\n",
       "  'salted',\n",
       "  'peanut',\n",
       "  'peanut',\n",
       "  'actually',\n",
       "  'small',\n",
       "  'sized',\n",
       "  'unsalted',\n",
       "  'sure',\n",
       "  'error',\n",
       "  'vendor',\n",
       "  'intended',\n",
       "  'represent',\n",
       "  'product',\n",
       "  'jumbo']]"
      ]
     },
     "execution_count": 25,
     "metadata": {},
     "output_type": "execute_result"
    }
   ],
   "source": [
    "data_words_bigrams[:2]"
   ]
  },
  {
   "cell_type": "code",
   "execution_count": 26,
   "metadata": {
    "ExecuteTime": {
     "end_time": "2019-04-15T05:33:33.092094Z",
     "start_time": "2019-04-15T05:33:28.810594Z"
    }
   },
   "outputs": [],
   "source": [
    "# Creating the term dictionary of our courpus, \n",
    "# where every unique term is assigned an index. \n",
    "dictionary = corpora.Dictionary(data_words_bigrams)\n",
    "\n",
    "# Converting list of documents (corpus) \n",
    "# into Document Term Matrix using dictionary prepared above.\n",
    "doc_term_matrix = [dictionary.doc2bow(text) for text in data_words_bigrams]"
   ]
  },
  {
   "cell_type": "code",
   "execution_count": 27,
   "metadata": {
    "ExecuteTime": {
     "end_time": "2019-04-15T05:33:36.996794Z",
     "start_time": "2019-04-15T05:33:36.990801Z"
    }
   },
   "outputs": [
    {
     "data": {
      "text/plain": [
       "[[(0, 1),\n",
       "  (1, 2),\n",
       "  (2, 1),\n",
       "  (3, 1),\n",
       "  (4, 1),\n",
       "  (5, 1),\n",
       "  (6, 1),\n",
       "  (7, 1),\n",
       "  (8, 1),\n",
       "  (9, 1),\n",
       "  (10, 1),\n",
       "  (11, 1),\n",
       "  (12, 1),\n",
       "  (13, 1),\n",
       "  (14, 3),\n",
       "  (15, 1),\n",
       "  (16, 1),\n",
       "  (17, 1),\n",
       "  (18, 1),\n",
       "  (19, 1)],\n",
       " [(14, 2),\n",
       "  (20, 1),\n",
       "  (21, 1),\n",
       "  (22, 1),\n",
       "  (23, 1),\n",
       "  (24, 2),\n",
       "  (25, 1),\n",
       "  (26, 2),\n",
       "  (27, 1),\n",
       "  (28, 1),\n",
       "  (29, 1),\n",
       "  (30, 1),\n",
       "  (31, 1),\n",
       "  (32, 1),\n",
       "  (33, 1)]]"
      ]
     },
     "execution_count": 27,
     "metadata": {},
     "output_type": "execute_result"
    }
   ],
   "source": [
    "doc_term_matrix[:2]"
   ]
  },
  {
   "cell_type": "code",
   "execution_count": 28,
   "metadata": {
    "ExecuteTime": {
     "end_time": "2019-04-15T05:33:37.318420Z",
     "start_time": "2019-04-15T05:33:37.296412Z"
    }
   },
   "outputs": [
    {
     "data": {
      "text/plain": [
       "'appreciates'"
      ]
     },
     "execution_count": 28,
     "metadata": {},
     "output_type": "execute_result"
    }
   ],
   "source": [
    "dictionary[0]"
   ]
  },
  {
   "cell_type": "code",
   "execution_count": 29,
   "metadata": {
    "ExecuteTime": {
     "end_time": "2019-04-15T05:33:37.840149Z",
     "start_time": "2019-04-15T05:33:37.834135Z"
    }
   },
   "outputs": [
    {
     "data": {
      "text/plain": [
       "'better'"
      ]
     },
     "execution_count": 29,
     "metadata": {},
     "output_type": "execute_result"
    }
   ],
   "source": [
    "dictionary[1]"
   ]
  },
  {
   "cell_type": "code",
   "execution_count": 30,
   "metadata": {
    "ExecuteTime": {
     "end_time": "2019-04-15T05:33:40.309441Z",
     "start_time": "2019-04-15T05:33:40.304446Z"
    }
   },
   "outputs": [
    {
     "data": {
      "text/plain": [
       "[[('appreciates', 1),\n",
       "  ('better', 2),\n",
       "  ('bought', 1),\n",
       "  ('canned', 1),\n",
       "  ('dog', 1),\n",
       "  ('finicky', 1),\n",
       "  ('food', 1),\n",
       "  ('found', 1),\n",
       "  ('good', 1),\n",
       "  ('labrador', 1),\n",
       "  ('like', 1),\n",
       "  ('look', 1),\n",
       "  ('meat', 1),\n",
       "  ('processed', 1),\n",
       "  ('product', 3),\n",
       "  ('quality', 1),\n",
       "  ('several', 1),\n",
       "  ('smell', 1),\n",
       "  ('stew', 1),\n",
       "  ('vitality', 1)]]"
      ]
     },
     "execution_count": 30,
     "metadata": {},
     "output_type": "execute_result"
    }
   ],
   "source": [
    "[[(dictionary[id],freq) for id,freq in crps] for crps in doc_term_matrix[:1]]"
   ]
  },
  {
   "cell_type": "markdown",
   "metadata": {
    "ExecuteTime": {
     "end_time": "2019-02-21T13:38:52.356859Z",
     "start_time": "2019-02-21T13:38:52.348916Z"
    }
   },
   "source": [
    "#### LDA: chunksize = 2000, passes = 1, num_topics = 10"
   ]
  },
  {
   "cell_type": "code",
   "execution_count": 42,
   "metadata": {
    "ExecuteTime": {
     "end_time": "2019-04-15T06:10:25.097513Z",
     "start_time": "2019-04-15T06:09:51.680247Z"
    }
   },
   "outputs": [],
   "source": [
    "# Build the LDA model\n",
    "from gensim.models import LdaModel\n",
    "lda_model = LdaModel(corpus=doc_term_matrix,id2word=dictionary,num_topics=10,random_state=100,\n",
    "                     update_every=1,chunksize=2000,passes=1,alpha='auto',per_word_topics=True)"
   ]
  },
  {
   "cell_type": "code",
   "execution_count": 43,
   "metadata": {
    "ExecuteTime": {
     "end_time": "2019-04-15T06:10:27.429501Z",
     "start_time": "2019-04-15T06:10:27.416858Z"
    }
   },
   "outputs": [
    {
     "data": {
      "text/plain": [
       "[(0,\n",
       "  '0.021*\"make\" + 0.020*\"use\" + 0.014*\"great\" + 0.014*\"mix\" + 0.012*\"add\" + 0.010*\"good\" + 0.010*\"water\" + 0.009*\"product\" + 0.008*\"easy\" + 0.008*\"packet\"'),\n",
       " (1,\n",
       "  '0.026*\"great\" + 0.022*\"price\" + 0.018*\"amazon\" + 0.017*\"toy\" + 0.016*\"product\" + 0.015*\"get\" + 0.014*\"good\" + 0.011*\"order\" + 0.009*\"love\" + 0.009*\"shipping\"'),\n",
       " (2,\n",
       "  '0.017*\"product\" + 0.013*\"dog\" + 0.013*\"one\" + 0.012*\"would\" + 0.012*\"bag\" + 0.011*\"amazon\" + 0.010*\"box\" + 0.009*\"treat\" + 0.008*\"like\" + 0.008*\"time\"'),\n",
       " (3,\n",
       "  '0.046*\"food\" + 0.043*\"dog\" + 0.020*\"cat\" + 0.018*\"love\" + 0.017*\"treat\" + 0.008*\"one\" + 0.008*\"old\" + 0.008*\"get\" + 0.008*\"baby\" + 0.007*\"day\"'),\n",
       " (4,\n",
       "  '0.025*\"like\" + 0.022*\"taste\" + 0.020*\"chip\" + 0.019*\"flavor\" + 0.014*\"popcorn\" + 0.013*\"good\" + 0.012*\"great\" + 0.012*\"love\" + 0.009*\"best\" + 0.009*\"one\"'),\n",
       " (5,\n",
       "  '0.118*\"coffee\" + 0.020*\"cup\" + 0.018*\"flavor\" + 0.014*\"taste\" + 0.013*\"one\" + 0.012*\"good\" + 0.011*\"like\" + 0.010*\"blend\" + 0.009*\"strong\" + 0.009*\"k_cup\"'),\n",
       " (6,\n",
       "  '0.010*\"oil\" + 0.009*\"like\" + 0.009*\"good\" + 0.009*\"product\" + 0.008*\"one\" + 0.008*\"taste\" + 0.007*\"flavor\" + 0.007*\"cereal\" + 0.007*\"sugar\" + 0.006*\"eat\"'),\n",
       " (7,\n",
       "  '0.019*\"sugar\" + 0.014*\"chocolate\" + 0.014*\"taste\" + 0.012*\"drink\" + 0.011*\"soda\" + 0.011*\"like\" + 0.009*\"movie_theater\" + 0.008*\"would\" + 0.008*\"toy\" + 0.006*\"energy\"'),\n",
       " (8,\n",
       "  '0.112*\"tea\" + 0.021*\"drink\" + 0.016*\"taste\" + 0.015*\"flavor\" + 0.015*\"green\" + 0.011*\"like\" + 0.009*\"one\" + 0.008*\"black\" + 0.007*\"juice\" + 0.006*\"good\"'),\n",
       " (9,\n",
       "  '0.022*\"like\" + 0.015*\"taste\" + 0.012*\"flavor\" + 0.009*\"get\" + 0.009*\"good\" + 0.009*\"one\" + 0.008*\"would\" + 0.008*\"machine\" + 0.007*\"love\" + 0.007*\"really\"')]"
      ]
     },
     "execution_count": 43,
     "metadata": {},
     "output_type": "execute_result"
    }
   ],
   "source": [
    "lda_model.print_topics()"
   ]
  },
  {
   "cell_type": "code",
   "execution_count": 44,
   "metadata": {
    "ExecuteTime": {
     "end_time": "2019-04-15T06:11:04.482144Z",
     "start_time": "2019-04-15T06:10:32.387004Z"
    }
   },
   "outputs": [
    {
     "data": {
      "text/html": [
       "<div>\n",
       "<style scoped>\n",
       "    .dataframe tbody tr th:only-of-type {\n",
       "        vertical-align: middle;\n",
       "    }\n",
       "\n",
       "    .dataframe tbody tr th {\n",
       "        vertical-align: top;\n",
       "    }\n",
       "\n",
       "    .dataframe thead th {\n",
       "        text-align: right;\n",
       "    }\n",
       "</style>\n",
       "<table border=\"1\" class=\"dataframe\">\n",
       "  <thead>\n",
       "    <tr style=\"text-align: right;\">\n",
       "      <th></th>\n",
       "      <th>Topic0</th>\n",
       "      <th>Topic1</th>\n",
       "      <th>Topic2</th>\n",
       "      <th>Topic3</th>\n",
       "      <th>Topic4</th>\n",
       "      <th>Topic5</th>\n",
       "      <th>Topic6</th>\n",
       "      <th>Topic7</th>\n",
       "      <th>Topic8</th>\n",
       "      <th>Topic9</th>\n",
       "      <th>Automated_topic_id</th>\n",
       "    </tr>\n",
       "  </thead>\n",
       "  <tbody>\n",
       "    <tr>\n",
       "      <th>0</th>\n",
       "      <td>0.005079</td>\n",
       "      <td>0.004733</td>\n",
       "      <td>0.228419</td>\n",
       "      <td>0.156089</td>\n",
       "      <td>0.007395</td>\n",
       "      <td>0.003544</td>\n",
       "      <td>0.583196</td>\n",
       "      <td>0.002866</td>\n",
       "      <td>0.003194</td>\n",
       "      <td>0.005485</td>\n",
       "      <td>Topic6</td>\n",
       "    </tr>\n",
       "    <tr>\n",
       "      <th>1</th>\n",
       "      <td>0.006404</td>\n",
       "      <td>0.243702</td>\n",
       "      <td>0.007970</td>\n",
       "      <td>0.004860</td>\n",
       "      <td>0.149587</td>\n",
       "      <td>0.004469</td>\n",
       "      <td>0.174412</td>\n",
       "      <td>0.003615</td>\n",
       "      <td>0.168382</td>\n",
       "      <td>0.236600</td>\n",
       "      <td>Topic1</td>\n",
       "    </tr>\n",
       "    <tr>\n",
       "      <th>2</th>\n",
       "      <td>0.003058</td>\n",
       "      <td>0.002846</td>\n",
       "      <td>0.003801</td>\n",
       "      <td>0.121996</td>\n",
       "      <td>0.004475</td>\n",
       "      <td>0.352761</td>\n",
       "      <td>0.247692</td>\n",
       "      <td>0.098152</td>\n",
       "      <td>0.001921</td>\n",
       "      <td>0.163297</td>\n",
       "      <td>Topic5</td>\n",
       "    </tr>\n",
       "    <tr>\n",
       "      <th>3</th>\n",
       "      <td>0.006757</td>\n",
       "      <td>0.006298</td>\n",
       "      <td>0.461543</td>\n",
       "      <td>0.005128</td>\n",
       "      <td>0.009867</td>\n",
       "      <td>0.004716</td>\n",
       "      <td>0.007146</td>\n",
       "      <td>0.187499</td>\n",
       "      <td>0.303748</td>\n",
       "      <td>0.007298</td>\n",
       "      <td>Topic2</td>\n",
       "    </tr>\n",
       "    <tr>\n",
       "      <th>4</th>\n",
       "      <td>0.008664</td>\n",
       "      <td>0.926500</td>\n",
       "      <td>0.010734</td>\n",
       "      <td>0.006577</td>\n",
       "      <td>0.012640</td>\n",
       "      <td>0.006049</td>\n",
       "      <td>0.009149</td>\n",
       "      <td>0.004892</td>\n",
       "      <td>0.005451</td>\n",
       "      <td>0.009345</td>\n",
       "      <td>Topic1</td>\n",
       "    </tr>\n",
       "  </tbody>\n",
       "</table>\n",
       "</div>"
      ],
      "text/plain": [
       "     Topic0    Topic1    Topic2    Topic3    Topic4    Topic5    Topic6  \\\n",
       "0  0.005079  0.004733  0.228419  0.156089  0.007395  0.003544  0.583196   \n",
       "1  0.006404  0.243702  0.007970  0.004860  0.149587  0.004469  0.174412   \n",
       "2  0.003058  0.002846  0.003801  0.121996  0.004475  0.352761  0.247692   \n",
       "3  0.006757  0.006298  0.461543  0.005128  0.009867  0.004716  0.007146   \n",
       "4  0.008664  0.926500  0.010734  0.006577  0.012640  0.006049  0.009149   \n",
       "\n",
       "     Topic7    Topic8    Topic9 Automated_topic_id  \n",
       "0  0.002866  0.003194  0.005485             Topic6  \n",
       "1  0.003615  0.168382  0.236600             Topic1  \n",
       "2  0.098152  0.001921  0.163297             Topic5  \n",
       "3  0.187499  0.303748  0.007298             Topic2  \n",
       "4  0.004892  0.005451  0.009345             Topic1  "
      ]
     },
     "execution_count": 44,
     "metadata": {},
     "output_type": "execute_result"
    }
   ],
   "source": [
    "lda_df = lda_model.get_document_topics(doc_term_matrix,minimum_probability=0)\n",
    "lda_df = pd.DataFrame(list(lda_df))\n",
    "num_topics = lda_model.num_topics\n",
    "lda_df.columns = ['Topic'+str(i) for i in range(num_topics)]\n",
    "for i in range(len(lda_df.columns)):\n",
    "    lda_df.iloc[:,i]=lda_df.iloc[:,i].apply(lambda x: x[1])\n",
    "lda_df['Automated_topic_id'] =lda_df.apply(lambda x: np.argmax(x),axis=1)\n",
    "lda_df.head()"
   ]
  },
  {
   "cell_type": "code",
   "execution_count": 45,
   "metadata": {
    "ExecuteTime": {
     "end_time": "2019-04-15T06:11:34.161884Z",
     "start_time": "2019-04-15T06:11:04.490504Z"
    }
   },
   "outputs": [
    {
     "name": "stdout",
     "output_type": "stream",
     "text": [
      "\n",
      "Perplexity:  -7.769207648127994\n"
     ]
    }
   ],
   "source": [
    "# Compute Perplexity, a measure of how good the model is. lower the better.\n",
    "print('\\nPerplexity: ', lda_model.log_perplexity(doc_term_matrix)) "
   ]
  },
  {
   "cell_type": "code",
   "execution_count": 46,
   "metadata": {
    "ExecuteTime": {
     "end_time": "2019-04-15T06:11:46.672389Z",
     "start_time": "2019-04-15T06:11:34.166928Z"
    }
   },
   "outputs": [
    {
     "ename": "NameError",
     "evalue": "name 'coherence_lda' is not defined",
     "output_type": "error",
     "traceback": [
      "\u001b[1;31m---------------------------------------------------------------------------\u001b[0m",
      "\u001b[1;31mNameError\u001b[0m                                 Traceback (most recent call last)",
      "\u001b[1;32m<ipython-input-46-9c3cb71f6ddf>\u001b[0m in \u001b[0;36m<module>\u001b[1;34m()\u001b[0m\n\u001b[0;32m      2\u001b[0m \u001b[0mcoherence_model_lda\u001b[0m \u001b[1;33m=\u001b[0m \u001b[0mCoherenceModel\u001b[0m\u001b[1;33m(\u001b[0m\u001b[0mmodel\u001b[0m\u001b[1;33m=\u001b[0m\u001b[0mlda_model\u001b[0m\u001b[1;33m,\u001b[0m \u001b[0mtexts\u001b[0m\u001b[1;33m=\u001b[0m\u001b[0mdata_words_bigrams\u001b[0m\u001b[1;33m,\u001b[0m \u001b[0mdictionary\u001b[0m\u001b[1;33m=\u001b[0m\u001b[0mdictionary\u001b[0m\u001b[1;33m,\u001b[0m \u001b[0mcoherence\u001b[0m\u001b[1;33m=\u001b[0m\u001b[1;34m'c_v'\u001b[0m\u001b[1;33m)\u001b[0m\u001b[1;33m\u001b[0m\u001b[0m\n\u001b[0;32m      3\u001b[0m \u001b[0mcoherence_lda_c_v\u001b[0m \u001b[1;33m=\u001b[0m \u001b[0mcoherence_model_lda\u001b[0m\u001b[1;33m.\u001b[0m\u001b[0mget_coherence\u001b[0m\u001b[1;33m(\u001b[0m\u001b[1;33m)\u001b[0m\u001b[1;33m\u001b[0m\u001b[0m\n\u001b[1;32m----> 4\u001b[1;33m \u001b[0mprint\u001b[0m\u001b[1;33m(\u001b[0m\u001b[1;34m'\\nCoherence Score using c_v: '\u001b[0m\u001b[1;33m,\u001b[0m \u001b[0mcoherence_lda\u001b[0m\u001b[1;33m)\u001b[0m\u001b[1;33m\u001b[0m\u001b[0m\n\u001b[0m",
      "\u001b[1;31mNameError\u001b[0m: name 'coherence_lda' is not defined"
     ]
    }
   ],
   "source": [
    "# Compute Coherence Score for lda model\n",
    "coherence_model_lda = CoherenceModel(model=lda_model, texts=data_words_bigrams, dictionary=dictionary, coherence='c_v')\n",
    "coherence_lda_c_v = coherence_model_lda.get_coherence()\n",
    "print('\\nCoherence Score using c_v: ', coherence_lda)"
   ]
  },
  {
   "cell_type": "code",
   "execution_count": null,
   "metadata": {
    "ExecuteTime": {
     "end_time": "2019-04-15T06:11:46.673360Z",
     "start_time": "2019-04-15T06:10:38.011Z"
    }
   },
   "outputs": [],
   "source": [
    "# Compute Coherence Score for lda model\n",
    "coherence_model_lda = CoherenceModel(model=lda_model, texts=data_words_bigrams, dictionary=dictionary, coherence='u_mass')\n",
    "coherence_lda_u_mass = coherence_model_lda.get_coherence()\n",
    "print('\\nCoherence Score using u_mass: ', coherence_lda_u_mass)"
   ]
  },
  {
   "cell_type": "code",
   "execution_count": null,
   "metadata": {
    "ExecuteTime": {
     "end_time": "2019-04-15T06:11:46.681059Z",
     "start_time": "2019-04-15T06:10:42.200Z"
    }
   },
   "outputs": [],
   "source": [
    "pyLDAvis.gensim.prepare(lda_model, doc_term_matrix, dictionary)"
   ]
  },
  {
   "cell_type": "code",
   "execution_count": null,
   "metadata": {
    "ExecuteTime": {
     "end_time": "2019-04-15T06:11:46.682886Z",
     "start_time": "2019-04-15T06:10:43.130Z"
    }
   },
   "outputs": [],
   "source": [
    "vis = pyLDAvis.gensim.prepare(lda_model, doc_term_matrix, dictionary)\n",
    "pyLDAvis.save_html(vis,'lda_10_topics.html')"
   ]
  },
  {
   "cell_type": "code",
   "execution_count": 34,
   "metadata": {
    "ExecuteTime": {
     "end_time": "2019-04-14T18:24:22.184390Z",
     "start_time": "2019-04-14T18:06:28.548424Z"
    }
   },
   "outputs": [
    {
     "name": "stderr",
     "output_type": "stream",
     "text": [
      "100%|██████████████████████████████████████████████████████████████████████████████████| 21/21 [17:53<00:00, 50.12s/it]\n"
     ]
    }
   ],
   "source": [
    "from tqdm import tqdm\n",
    "coherenceList_umass = []\n",
    "coherenceList_cv = []\n",
    "num_topics_list = np.arange(5,26)\n",
    "for num_topics in tqdm(num_topics_list):\n",
    "    lda_model = LdaModel(corpus=doc_term_matrix,id2word=dictionary,num_topics=num_topics,random_state=100,\n",
    "                     update_every=1,chunksize=2000,passes=1,alpha='auto',per_word_topics=True)\n",
    "    \n",
    "    cm = CoherenceModel(model=lda_model, corpus=doc_term_matrix, \n",
    "                        dictionary=dictionary, coherence='u_mass')\n",
    "    coherenceList_umass.append(cm.get_coherence())\n",
    "    \n",
    "    cm_cv = CoherenceModel(model=lda_model, corpus=doc_term_matrix,\n",
    "                           texts=data_words_bigrams, dictionary=dictionary, coherence='c_v')\n",
    "    coherenceList_cv.append(cm_cv.get_coherence())\n",
    "\n"
   ]
  },
  {
   "cell_type": "markdown",
   "metadata": {},
   "source": [
    "### Numbers of topics using Coherence u_mass"
   ]
  },
  {
   "cell_type": "code",
   "execution_count": 35,
   "metadata": {
    "ExecuteTime": {
     "end_time": "2019-04-14T18:24:37.111594Z",
     "start_time": "2019-04-14T18:24:36.601724Z"
    }
   },
   "outputs": [
    {
     "data": {
      "image/png": "[encoded data removed]",
      "text/plain": [
       "<Figure size 720x432 with 1 Axes>"
      ]
     },
     "metadata": {
      "needs_background": "light"
     },
     "output_type": "display_data"
    }
   ],
   "source": [
    "plotData = pd.DataFrame({'Number of topics':num_topics_list,\n",
    "                         'CoherenceScore_umass':coherenceList_umass})\n",
    "f,ax = plt.subplots(figsize=(10,6))\n",
    "sns.set_style(\"darkgrid\")\n",
    "sns.pointplot(x='Number of topics',y= 'CoherenceScore_umass',data=plotData)\n",
    "plt.title('Topic coherence')\n",
    "plt.savefig('Topic coherence plot.png')"
   ]
  },
  {
   "cell_type": "markdown",
   "metadata": {},
   "source": [
    "### Numbers of topics using Coherence c_v"
   ]
  },
  {
   "cell_type": "code",
   "execution_count": 36,
   "metadata": {
    "ExecuteTime": {
     "end_time": "2019-04-14T18:26:52.880008Z",
     "start_time": "2019-04-14T18:26:52.553217Z"
    }
   },
   "outputs": [
    {
     "data": {
      "image/png": "[encoded data removed]",
      "text/plain": [
       "<Figure size 720x432 with 1 Axes>"
      ]
     },
     "metadata": {},
     "output_type": "display_data"
    }
   ],
   "source": [
    "plotData = pd.DataFrame({'Number of topics':num_topics_list,\n",
    "                         'CoherenceScore_cv':coherenceList_cv})\n",
    "f,ax = plt.subplots(figsize=(10,6))\n",
    "sns.set_style(\"darkgrid\")\n",
    "sns.pointplot(x='Number of topics',y= 'CoherenceScore_cv',data=plotData)\n",
    "# plt.axhline(y=-3.9)\n",
    "plt.title('Topic coherence')\n",
    "plt.savefig('Topic coherence plot.png')"
   ]
  },
  {
   "cell_type": "markdown",
   "metadata": {},
   "source": [
    "### HDP Models"
   ]
  },
  {
   "cell_type": "code",
   "execution_count": 31,
   "metadata": {
    "ExecuteTime": {
     "end_time": "2019-04-15T05:36:45.870105Z",
     "start_time": "2019-04-15T05:33:50.712323Z"
    }
   },
   "outputs": [],
   "source": [
    "from gensim.models import HdpModel\n",
    "hdp_model = HdpModel(corpus=doc_term_matrix,id2word=dictionary)"
   ]
  },
  {
   "cell_type": "code",
   "execution_count": 32,
   "metadata": {
    "ExecuteTime": {
     "end_time": "2019-04-15T05:37:10.835633Z",
     "start_time": "2019-04-15T05:37:09.702569Z"
    }
   },
   "outputs": [
    {
     "data": {
      "text/plain": [
       "[(0,\n",
       "  '0.012*like + 0.010*dog + 0.009*food + 0.009*one + 0.008*would + 0.008*taste + 0.008*good + 0.008*product + 0.007*flavor + 0.007*love'),\n",
       " (1,\n",
       "  '0.013*coffee + 0.012*like + 0.010*taste + 0.009*good + 0.008*one + 0.008*flavor + 0.008*tea + 0.008*would + 0.007*product + 0.007*great'),\n",
       " (2,\n",
       "  '0.012*like + 0.009*taste + 0.008*good + 0.008*one + 0.008*flavor + 0.008*product + 0.008*would + 0.007*great + 0.007*love + 0.007*food'),\n",
       " (3,\n",
       "  '0.015*coffee + 0.012*like + 0.010*taste + 0.009*flavor + 0.009*good + 0.008*one + 0.007*would + 0.007*great + 0.007*product + 0.006*love'),\n",
       " (4,\n",
       "  '0.010*like + 0.008*good + 0.008*taste + 0.008*great + 0.007*flavor + 0.007*coffee + 0.007*one + 0.007*product + 0.007*love + 0.006*would'),\n",
       " (5,\n",
       "  '0.009*like + 0.007*good + 0.007*great + 0.007*product + 0.007*love + 0.007*taste + 0.006*one + 0.006*flavor + 0.006*coffee + 0.005*would'),\n",
       " (6,\n",
       "  '0.007*chip + 0.007*like + 0.006*good + 0.006*taste + 0.006*flavor + 0.006*love + 0.006*great + 0.005*product + 0.005*coffee + 0.005*one'),\n",
       " (7,\n",
       "  '0.005*great + 0.005*love + 0.005*like + 0.005*good + 0.004*taste + 0.004*product + 0.004*flavor + 0.004*one + 0.003*coffee + 0.003*chip'),\n",
       " (8,\n",
       "  '0.006*like + 0.005*good + 0.005*great + 0.005*taste + 0.005*love + 0.005*coffee + 0.004*flavor + 0.004*product + 0.004*one + 0.003*would'),\n",
       " (9,\n",
       "  '0.004*good + 0.004*like + 0.004*great + 0.004*love + 0.004*taste + 0.003*flavor + 0.003*product + 0.003*coffee + 0.003*one + 0.003*chip'),\n",
       " (10,\n",
       "  '0.003*great + 0.003*good + 0.003*coffee + 0.003*tea + 0.003*love + 0.003*taste + 0.003*like + 0.002*product + 0.002*flavor + 0.002*one'),\n",
       " (11,\n",
       "  '0.004*great + 0.003*love + 0.003*good + 0.003*like + 0.003*flavor + 0.002*taste + 0.002*product + 0.002*chip + 0.002*tea + 0.002*one'),\n",
       " (12,\n",
       "  '0.003*great + 0.003*like + 0.003*coffee + 0.003*good + 0.003*taste + 0.003*love + 0.002*flavor + 0.002*product + 0.002*one + 0.002*best'),\n",
       " (13,\n",
       "  '0.003*like + 0.003*great + 0.003*love + 0.003*good + 0.002*product + 0.002*taste + 0.002*coffee + 0.002*flavor + 0.002*food + 0.002*one'),\n",
       " (14,\n",
       "  '0.003*like + 0.003*coffee + 0.003*great + 0.003*good + 0.002*love + 0.002*taste + 0.002*flavor + 0.002*product + 0.002*best + 0.002*would'),\n",
       " (15,\n",
       "  '0.003*love + 0.002*good + 0.002*chip + 0.002*great + 0.002*flavor + 0.002*like + 0.002*taste + 0.002*coffee + 0.002*product + 0.001*tea'),\n",
       " (16,\n",
       "  '0.003*great + 0.002*good + 0.002*like + 0.002*love + 0.002*taste + 0.002*product + 0.002*flavor + 0.001*one + 0.001*coffee + 0.001*would'),\n",
       " (17,\n",
       "  '0.003*good + 0.003*great + 0.002*love + 0.002*tea + 0.002*like + 0.002*taste + 0.002*flavor + 0.002*product + 0.002*coffee + 0.001*one'),\n",
       " (18,\n",
       "  '0.002*like + 0.002*great + 0.002*good + 0.002*love + 0.002*taste + 0.002*coffee + 0.002*flavor + 0.002*product + 0.001*one + 0.001*best'),\n",
       " (19,\n",
       "  '0.003*great + 0.002*love + 0.002*like + 0.002*taste + 0.002*good + 0.002*flavor + 0.002*product + 0.002*chip + 0.001*one + 0.001*coffee')]"
      ]
     },
     "execution_count": 32,
     "metadata": {},
     "output_type": "execute_result"
    }
   ],
   "source": [
    "hdp_model.print_topics()"
   ]
  },
  {
   "cell_type": "code",
   "execution_count": 33,
   "metadata": {
    "ExecuteTime": {
     "end_time": "2019-04-15T05:42:35.258518Z",
     "start_time": "2019-04-15T05:41:47.371959Z"
    }
   },
   "outputs": [
    {
     "name": "stdout",
     "output_type": "stream",
     "text": [
      "\n",
      "Coherence Score for HDP using c_v:  0.42749093464052484\n"
     ]
    }
   ],
   "source": [
    "# Compute Coherence Score using c_v for hdp model\n",
    "coherence_model_hdp = CoherenceModel(model=hdp_model, texts=data_words_bigrams, dictionary=dictionary, coherence='c_v')\n",
    "coherence_hdp_c_v = coherence_model_hdp .get_coherence()\n",
    "print('\\nCoherence Score for HDP using c_v: ', coherence_hdp_c_v )"
   ]
  },
  {
   "cell_type": "code",
   "execution_count": 34,
   "metadata": {
    "ExecuteTime": {
     "end_time": "2019-04-15T05:42:56.669927Z",
     "start_time": "2019-04-15T05:42:49.229079Z"
    }
   },
   "outputs": [
    {
     "name": "stdout",
     "output_type": "stream",
     "text": [
      "\n",
      "Coherence Score for HDP using u_mass:  -8.601503842969139\n"
     ]
    }
   ],
   "source": [
    "# Compute Coherence Score using c_v for hdp model\n",
    "coherence_model_hdp = CoherenceModel(model=hdp_model, texts=data_words_bigrams, dictionary=dictionary, coherence='u_mass')\n",
    "coherence_hdp_u_mass = coherence_model_hdp .get_coherence()\n",
    "print('\\nCoherence Score for HDP using u_mass: ', coherence_hdp_u_mass )"
   ]
  },
  {
   "cell_type": "markdown",
   "metadata": {
    "ExecuteTime": {
     "end_time": "2019-04-15T05:46:11.823301Z",
     "start_time": "2019-04-15T05:46:11.768922Z"
    }
   },
   "source": [
    "### LSI Models"
   ]
  },
  {
   "cell_type": "code",
   "execution_count": 36,
   "metadata": {
    "ExecuteTime": {
     "end_time": "2019-04-15T06:01:58.243255Z",
     "start_time": "2019-04-15T06:01:51.761755Z"
    }
   },
   "outputs": [],
   "source": [
    "# Build the LSI model\n",
    "from gensim.models import LsiModel\n",
    "lsi_model = LsiModel(corpus=doc_term_matrix, num_topics=10, id2word=dictionary)\n"
   ]
  },
  {
   "cell_type": "code",
   "execution_count": 37,
   "metadata": {
    "ExecuteTime": {
     "end_time": "2019-04-15T06:02:04.334966Z",
     "start_time": "2019-04-15T06:02:04.130947Z"
    }
   },
   "outputs": [
    {
     "data": {
      "text/plain": [
       "[(0,\n",
       "  '0.314*\"like\" + 0.252*\"coffee\" + 0.223*\"taste\" + 0.216*\"one\" + 0.199*\"would\" + 0.199*\"good\" + 0.199*\"flavor\" + 0.191*\"food\" + 0.169*\"product\" + 0.155*\"dog\"'),\n",
       " (1,\n",
       "  '-0.721*\"coffee\" + 0.371*\"dog\" + 0.357*\"food\" + 0.179*\"treat\" + -0.132*\"cup\" + -0.119*\"taste\" + 0.115*\"cat\" + -0.112*\"tea\" + -0.108*\"flavor\" + 0.088*\"product\"'),\n",
       " (2,\n",
       "  '-0.758*\"tea\" + 0.447*\"coffee\" + 0.267*\"dog\" + 0.202*\"food\" + 0.123*\"treat\" + -0.113*\"flavor\" + -0.101*\"taste\" + -0.081*\"green\" + 0.060*\"cat\" + -0.058*\"sugar\"'),\n",
       " (3,\n",
       "  '0.549*\"tea\" + 0.426*\"dog\" + 0.313*\"coffee\" + -0.228*\"like\" + 0.212*\"treat\" + -0.212*\"taste\" + -0.199*\"flavor\" + -0.191*\"chip\" + 0.178*\"food\" + -0.110*\"good\"'),\n",
       " (4,\n",
       "  '-0.649*\"food\" + 0.431*\"treat\" + -0.383*\"cat\" + 0.329*\"dog\" + -0.100*\"chicken\" + 0.092*\"toy\" + -0.089*\"coffee\" + -0.085*\"tea\" + 0.081*\"one\" + -0.075*\"baby\"'),\n",
       " (5,\n",
       "  '-0.610*\"like\" + 0.474*\"product\" + -0.208*\"taste\" + -0.202*\"dog\" + 0.155*\"amazon\" + 0.143*\"great\" + -0.140*\"flavor\" + 0.132*\"one\" + -0.130*\"treat\" + 0.112*\"use\"'),\n",
       " (6,\n",
       "  '-0.537*\"flavor\" + -0.487*\"chip\" + 0.343*\"like\" + 0.305*\"product\" + 0.217*\"taste\" + -0.206*\"bag\" + -0.149*\"potato\" + 0.107*\"sugar\" + -0.101*\"love\" + -0.099*\"good\"'),\n",
       " (7,\n",
       "  '-0.492*\"one\" + 0.347*\"taste\" + 0.345*\"product\" + 0.260*\"dog\" + 0.257*\"good\" + -0.190*\"cat\" + -0.174*\"get\" + -0.167*\"like\" + -0.162*\"would\" + 0.153*\"food\"'),\n",
       " (8,\n",
       "  '-0.379*\"drink\" + -0.326*\"flavor\" + -0.316*\"juice\" + 0.314*\"like\" + 0.287*\"chip\" + -0.260*\"sugar\" + -0.228*\"soda\" + 0.178*\"bag\" + -0.147*\"would\" + 0.145*\"product\"'),\n",
       " (9,\n",
       "  '0.540*\"product\" + -0.487*\"good\" + -0.290*\"taste\" + 0.282*\"flavor\" + 0.259*\"like\" + -0.255*\"popcorn\" + 0.158*\"chip\" + -0.114*\"great\" + -0.108*\"chocolate\" + -0.095*\"make\"')]"
      ]
     },
     "execution_count": 37,
     "metadata": {},
     "output_type": "execute_result"
    }
   ],
   "source": [
    "lsi_model.print_topics(num_topics=10,num_words=10)"
   ]
  },
  {
   "cell_type": "code",
   "execution_count": 38,
   "metadata": {
    "ExecuteTime": {
     "end_time": "2019-04-15T06:05:21.213828Z",
     "start_time": "2019-04-15T06:04:59.417036Z"
    }
   },
   "outputs": [
    {
     "name": "stdout",
     "output_type": "stream",
     "text": [
      "\n",
      "Coherence Score for LSI using c_v:  0.35284960956397293\n"
     ]
    }
   ],
   "source": [
    "# Compute Coherence Score for llsi model\n",
    "coherence_model_lsi = CoherenceModel(model=lsi_model, texts=data_words_bigrams, dictionary=dictionary, coherence='c_v')\n",
    "coherence_lsi_c_v = coherence_model_lsi.get_coherence()\n",
    "print('\\nCoherence Score for LSI using c_v: ', coherence_lsi_c_v)"
   ]
  },
  {
   "cell_type": "code",
   "execution_count": 39,
   "metadata": {
    "ExecuteTime": {
     "end_time": "2019-04-15T06:05:48.588965Z",
     "start_time": "2019-04-15T06:05:43.261255Z"
    }
   },
   "outputs": [
    {
     "name": "stdout",
     "output_type": "stream",
     "text": [
      "\n",
      "Coherence Score for LSI using u_mass:  -2.8777830710310117\n"
     ]
    }
   ],
   "source": [
    "# Compute Coherence Score for llsi model\n",
    "coherence_model_lsi = CoherenceModel(model=lsi_model, texts=data_words_bigrams, dictionary=dictionary, coherence='u_mass')\n",
    "coherence_lsi_u_mass = coherence_model_lsi.get_coherence()\n",
    "print('\\nCoherence Score for LSI using u_mass: ', coherence_lsi_u_mass)"
   ]
  },
  {
   "cell_type": "code",
   "execution_count": 47,
   "metadata": {
    "ExecuteTime": {
     "end_time": "2019-04-15T06:22:52.401626Z",
     "start_time": "2019-04-15T06:22:15.196865Z"
    }
   },
   "outputs": [],
   "source": [
    "from gensim.models import CoherenceModel\n",
    "\n",
    "lda_topics = [[word for word, prob in topic] for topicid, topic in lda_model.show_topics(formatted=False)]\n",
    "\n",
    "lsi_topics = [[word for word, prob in topic] for topicid, topic in lsi_model.show_topics(formatted=False)]\n",
    "\n",
    "hdp_topics = [[word for word, prob in topic] for topicid, topic in hdp_model.show_topics(formatted=False)]\n",
    "\n",
    "\n",
    "lsi_coherence = CoherenceModel(topics=lsi_topics, texts=data_words_bigrams, dictionary=dictionary, window_size=10).get_coherence()\n",
    "\n",
    "hdp_coherence = CoherenceModel(topics=hdp_topics, texts=data_words_bigrams, dictionary=dictionary, window_size=10).get_coherence()\n",
    "\n",
    "lda_coherence = CoherenceModel(topics=lda_topics, texts=data_words_bigrams, dictionary=dictionary, window_size=10).get_coherence()"
   ]
  },
  {
   "cell_type": "code",
   "execution_count": 48,
   "metadata": {
    "ExecuteTime": {
     "end_time": "2019-04-15T06:23:44.863489Z",
     "start_time": "2019-04-15T06:23:44.526927Z"
    }
   },
   "outputs": [],
   "source": [
    "import numpy as np\n",
    "def topic_model_graph(coherences, indices):\n",
    "    \"\"\"\n",
    "    Function to plot bar graph.\n",
    "    \n",
    "    coherences: list of coherence values\n",
    "    indices: Indices to be used to mark bars. Length of this and coherences should be equal.\n",
    "    \"\"\"\n",
    "    assert len(coherences) == len(indices)\n",
    "    n = len(coherences)\n",
    "    x = np.arange(n)\n",
    "    plt.bar(x, coherences, width=0.2, tick_label=indices, align='center')\n",
    "    plt.xlabel('Models')\n",
    "    plt.ylabel('Coherence Value')"
   ]
  },
  {
   "cell_type": "code",
   "execution_count": 49,
   "metadata": {
    "ExecuteTime": {
     "end_time": "2019-04-15T06:24:04.990842Z",
     "start_time": "2019-04-15T06:24:04.255931Z"
    }
   },
   "outputs": [
    {
     "data": {
      "image/png": "[encoded data removed]",
      "text/plain": [
       "<Figure size 432x288 with 1 Axes>"
      ]
     },
     "metadata": {
      "needs_background": "light"
     },
     "output_type": "display_data"
    }
   ],
   "source": [
    "topic_model_graph([lsi_coherence, hdp_coherence, lda_coherence],\n",
    "                   ['LSI', 'HDP', 'LDA'])"
   ]
  }
 ],
 "metadata": {
  "kernelspec": {
   "display_name": "Python 3",
   "language": "python",
   "name": "python3"
  },
  "language_info": {
   "codemirror_mode": {
    "name": "ipython",
    "version": 3
   },
   "file_extension": ".py",
   "mimetype": "text/x-python",
   "name": "python",
   "nbconvert_exporter": "python",
   "pygments_lexer": "ipython3",
   "version": "3.6.6"
  }
 },
 "nbformat": 4,
 "nbformat_minor": 2
}
